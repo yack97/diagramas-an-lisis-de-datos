{
 "cells": [
  {
   "cell_type": "code",
   "execution_count": 1,
   "metadata": {},
   "outputs": [
    {
     "name": "stdout",
     "output_type": "stream",
     "text": [
      "DataFrame original:\n",
      "  Producto Precio  Cantidad       Fecha   Cliente\n",
      "0        A   $100       1.0  01/01/2023  Cliente1\n",
      "1        B   $200       2.0  02/01/2023  Cliente2\n",
      "2        C   $300       3.0  03/01/2023  Cliente3\n",
      "3        A   $100       1.0  01/01/2023  Cliente1\n",
      "4        B   None       2.0  02/01/2023  Cliente2\n",
      "5        C   $300       NaN  03/01/2023  Cliente3\n",
      "6        A   $100       1.0  01/01/2023  Cliente1\n",
      "7        D   $150       3.0  04/01/2023  Cliente4\n"
     ]
    },
    {
     "name": "stderr",
     "output_type": "stream",
     "text": [
      "/var/folders/zn/2r0x1mkx23n68pydslhg72dh0000gn/T/ipykernel_43447/1377408931.py:1: DeprecationWarning: \n",
      "Pyarrow will become a required dependency of pandas in the next major release of pandas (pandas 3.0),\n",
      "(to allow more performant data types, such as the Arrow string type, and better interoperability with other libraries)\n",
      "but was not found to be installed on your system.\n",
      "If this would cause problems for you,\n",
      "please provide us feedback at https://github.com/pandas-dev/pandas/issues/54466\n",
      "        \n",
      "  import pandas as pd\n"
     ]
    }
   ],
   "source": [
    "import pandas as pd\n",
    "\n",
    "# Crear un DataFrame con problemas típicos de calidad de datos\n",
    "data = {\n",
    "    'Producto': ['A', 'B', 'C', 'A', 'B', 'C', 'A', 'D'],\n",
    "    'Precio': ['$100', '$200', '$300', '$100', None, '$300', '$100', '$150'],\n",
    "    'Cantidad': [1, 2, 3, 1, 2, None, 1, 3],\n",
    "    'Fecha': ['01/01/2023', '02/01/2023', '03/01/2023', '01/01/2023', '02/01/2023', '03/01/2023', '01/01/2023', '04/01/2023'],\n",
    "    'Cliente': ['Cliente1', 'Cliente2', 'Cliente3', 'Cliente1', 'Cliente2', 'Cliente3', 'Cliente1', 'Cliente4']\n",
    "}\n",
    "\n",
    "df = pd.DataFrame(data)\n",
    "\n",
    "# Mostrar el DataFrame original\n",
    "print(\"DataFrame original:\")\n",
    "print(df)"
   ]
  },
  {
   "cell_type": "code",
   "execution_count": 2,
   "metadata": {},
   "outputs": [
    {
     "name": "stdout",
     "output_type": "stream",
     "text": [
      "\n",
      "Información general del DataFrame:\n",
      "<class 'pandas.core.frame.DataFrame'>\n",
      "RangeIndex: 8 entries, 0 to 7\n",
      "Data columns (total 5 columns):\n",
      " #   Column    Non-Null Count  Dtype  \n",
      "---  ------    --------------  -----  \n",
      " 0   Producto  8 non-null      object \n",
      " 1   Precio    7 non-null      object \n",
      " 2   Cantidad  7 non-null      float64\n",
      " 3   Fecha     8 non-null      object \n",
      " 4   Cliente   8 non-null      object \n",
      "dtypes: float64(1), object(4)\n",
      "memory usage: 452.0+ bytes\n",
      "None\n",
      "\n",
      "Valores nulos por columna:\n",
      "Producto    0\n",
      "Precio      1\n",
      "Cantidad    1\n",
      "Fecha       0\n",
      "Cliente     0\n",
      "dtype: int64\n",
      "\n",
      "Número de filas duplicadas:\n",
      "2\n",
      "\n",
      "Resumen estadístico:\n",
      "       Producto Precio  Cantidad       Fecha   Cliente\n",
      "count         8      7  7.000000           8         8\n",
      "unique        4      4       NaN           4         4\n",
      "top           A   $100       NaN  01/01/2023  Cliente1\n",
      "freq          3      3       NaN           3         3\n",
      "mean        NaN    NaN  1.857143         NaN       NaN\n",
      "std         NaN    NaN  0.899735         NaN       NaN\n",
      "min         NaN    NaN  1.000000         NaN       NaN\n",
      "25%         NaN    NaN  1.000000         NaN       NaN\n",
      "50%         NaN    NaN  2.000000         NaN       NaN\n",
      "75%         NaN    NaN  2.500000         NaN       NaN\n",
      "max         NaN    NaN  3.000000         NaN       NaN\n"
     ]
    }
   ],
   "source": [
    "# Revisar la información general del DataFrame\n",
    "print(\"\\nInformación general del DataFrame:\")\n",
    "print(df.info())\n",
    "\n",
    "# Verificar si hay valores nulos\n",
    "print(\"\\nValores nulos por columna:\")\n",
    "print(df.isnull().sum())\n",
    "\n",
    "# Revisar duplicados\n",
    "print(\"\\nNúmero de filas duplicadas:\")\n",
    "print(df.duplicated().sum())\n",
    "\n",
    "# Ver el resumen estadístico\n",
    "print(\"\\nResumen estadístico:\")\n",
    "print(df.describe(include='all'))"
   ]
  },
  {
   "cell_type": "markdown",
   "metadata": {},
   "source": [
    "Limpieza de Datos"
   ]
  },
  {
   "cell_type": "code",
   "execution_count": 3,
   "metadata": {},
   "outputs": [
    {
     "name": "stdout",
     "output_type": "stream",
     "text": [
      "\n",
      "DataFrame después de eliminar filas con valores nulos:\n",
      "  Producto Precio  Cantidad       Fecha   Cliente\n",
      "0        A   $100       1.0  01/01/2023  Cliente1\n",
      "1        B   $200       2.0  02/01/2023  Cliente2\n",
      "2        C   $300       3.0  03/01/2023  Cliente3\n",
      "3        A   $100       1.0  01/01/2023  Cliente1\n",
      "6        A   $100       1.0  01/01/2023  Cliente1\n",
      "7        D   $150       3.0  04/01/2023  Cliente4\n"
     ]
    }
   ],
   "source": [
    "# Eliminar filas con valores nulos\n",
    "df = df.dropna()\n",
    "\n",
    "# Mostrar el DataFrame después de eliminar nulos\n",
    "print(\"\\nDataFrame después de eliminar filas con valores nulos:\")\n",
    "print(df)"
   ]
  },
  {
   "cell_type": "code",
   "execution_count": 4,
   "metadata": {},
   "outputs": [
    {
     "name": "stdout",
     "output_type": "stream",
     "text": [
      "\n",
      "DataFrame después de eliminar filas duplicadas:\n",
      "  Producto Precio  Cantidad       Fecha   Cliente\n",
      "0        A   $100       1.0  01/01/2023  Cliente1\n",
      "1        B   $200       2.0  02/01/2023  Cliente2\n",
      "2        C   $300       3.0  03/01/2023  Cliente3\n",
      "7        D   $150       3.0  04/01/2023  Cliente4\n"
     ]
    }
   ],
   "source": [
    "# Eliminar filas duplicadas\n",
    "df = df.drop_duplicates()\n",
    "\n",
    "# Mostrar el DataFrame después de eliminar duplicados\n",
    "print(\"\\nDataFrame después de eliminar filas duplicadas:\")\n",
    "print(df)"
   ]
  },
  {
   "cell_type": "code",
   "execution_count": 5,
   "metadata": {},
   "outputs": [
    {
     "name": "stdout",
     "output_type": "stream",
     "text": [
      "\n",
      "DataFrame después de corregir el formato del precio:\n",
      "  Producto  Precio  Cantidad       Fecha   Cliente\n",
      "0        A   100.0       1.0  01/01/2023  Cliente1\n",
      "1        B   200.0       2.0  02/01/2023  Cliente2\n",
      "2        C   300.0       3.0  03/01/2023  Cliente3\n",
      "7        D   150.0       3.0  04/01/2023  Cliente4\n"
     ]
    }
   ],
   "source": [
    "# Eliminar símbolos de moneda y convertir a float\n",
    "df['Precio'] = df['Precio'].replace('[\\$,]', '', regex=True).astype(float)\n",
    "\n",
    "# Mostrar el DataFrame después de corregir el formato del precio\n",
    "print(\"\\nDataFrame después de corregir el formato del precio:\")\n",
    "print(df)"
   ]
  },
  {
   "cell_type": "markdown",
   "metadata": {},
   "source": [
    "Transformación de Datos"
   ]
  },
  {
   "cell_type": "code",
   "execution_count": 6,
   "metadata": {},
   "outputs": [
    {
     "name": "stdout",
     "output_type": "stream",
     "text": [
      "\n",
      "DataFrame con la columna de Ingresos:\n",
      "  Producto  Precio  Cantidad       Fecha   Cliente  Ingresos\n",
      "0        A   100.0       1.0  01/01/2023  Cliente1     100.0\n",
      "1        B   200.0       2.0  02/01/2023  Cliente2     400.0\n",
      "2        C   300.0       3.0  03/01/2023  Cliente3     900.0\n",
      "7        D   150.0       3.0  04/01/2023  Cliente4     450.0\n"
     ]
    }
   ],
   "source": [
    "# Crear una nueva columna de Ingresos\n",
    "df['Ingresos'] = df['Precio'] * df['Cantidad']\n",
    "\n",
    "# Mostrar el DataFrame con la nueva columna de Ingresos\n",
    "print(\"\\nDataFrame con la columna de Ingresos:\")\n",
    "print(df)"
   ]
  },
  {
   "cell_type": "code",
   "execution_count": 7,
   "metadata": {},
   "outputs": [
    {
     "name": "stdout",
     "output_type": "stream",
     "text": [
      "\n",
      "DataFrame después de convertir la fecha:\n",
      "  Producto  Precio  Cantidad      Fecha   Cliente  Ingresos\n",
      "0        A   100.0       1.0 2023-01-01  Cliente1     100.0\n",
      "1        B   200.0       2.0 2023-01-02  Cliente2     400.0\n",
      "2        C   300.0       3.0 2023-01-03  Cliente3     900.0\n",
      "7        D   150.0       3.0 2023-01-04  Cliente4     450.0\n"
     ]
    }
   ],
   "source": [
    "# Convertir la columna de Fecha a formato datetime\n",
    "df['Fecha'] = pd.to_datetime(df['Fecha'], format='%d/%m/%Y')\n",
    "\n",
    "# Mostrar el DataFrame después de convertir la fecha\n",
    "print(\"\\nDataFrame después de convertir la fecha:\")\n",
    "print(df)"
   ]
  },
  {
   "cell_type": "code",
   "execution_count": 8,
   "metadata": {},
   "outputs": [
    {
     "name": "stdout",
     "output_type": "stream",
     "text": [
      "\n",
      "Tipos de datos después de la limpieza:\n",
      "Producto            object\n",
      "Precio             float64\n",
      "Cantidad           float64\n",
      "Fecha       datetime64[ns]\n",
      "Cliente             object\n",
      "Ingresos           float64\n",
      "dtype: object\n"
     ]
    }
   ],
   "source": [
    "# Asegurarnos de que los tipos de datos son correctos\n",
    "print(\"\\nTipos de datos después de la limpieza:\")\n",
    "print(df.dtypes)"
   ]
  },
  {
   "cell_type": "code",
   "execution_count": 9,
   "metadata": {},
   "outputs": [
    {
     "name": "stdout",
     "output_type": "stream",
     "text": [
      "\n",
      "DataFrame final:\n",
      "  Producto  Precio  Cantidad      Fecha   Cliente  Ingresos\n",
      "0        A   100.0       1.0 2023-01-01  Cliente1     100.0\n",
      "1        B   200.0       2.0 2023-01-02  Cliente2     400.0\n",
      "2        C   300.0       3.0 2023-01-03  Cliente3     900.0\n",
      "7        D   150.0       3.0 2023-01-04  Cliente4     450.0\n"
     ]
    }
   ],
   "source": [
    "print(\"\\nDataFrame final:\")\n",
    "print(df)"
   ]
  }
 ],
 "metadata": {
  "kernelspec": {
   "display_name": "Python 3",
   "language": "python",
   "name": "python3"
  },
  "language_info": {
   "codemirror_mode": {
    "name": "ipython",
    "version": 3
   },
   "file_extension": ".py",
   "mimetype": "text/x-python",
   "name": "python",
   "nbconvert_exporter": "python",
   "pygments_lexer": "ipython3",
   "version": "3.11.7"
  }
 },
 "nbformat": 4,
 "nbformat_minor": 2
}
