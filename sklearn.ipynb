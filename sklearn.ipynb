{
  "nbformat": 4,
  "nbformat_minor": 0,
  "metadata": {
    "colab": {
      "provenance": [],
      "authorship_tag": "ABX9TyNNv26Rm2x35dFSy2WMvHQ7",
      "include_colab_link": true
    },
    "kernelspec": {
      "name": "python3",
      "display_name": "Python 3"
    },
    "language_info": {
      "name": "python"
    }
  },
  "cells": [
    {
      "cell_type": "markdown",
      "metadata": {
        "id": "view-in-github",
        "colab_type": "text"
      },
      "source": [
        "<a href=\"https://colab.research.google.com/github/yack97/diagramas-an-lisis-de-datos/blob/main/sklearn.ipynb\" target=\"_parent\"><img src=\"https://colab.research.google.com/assets/colab-badge.svg\" alt=\"Open In Colab\"/></a>"
      ]
    },
    {
      "cell_type": "code",
      "execution_count": 1,
      "metadata": {
        "id": "ukXLT0tyD_Im"
      },
      "outputs": [],
      "source": [
        "from sklearn.datasets import load_iris\n",
        "from sklearn.model_selection import train_test_split\n",
        "from sklearn.preprocessing import StandardScaler\n",
        "from sklearn.neighbors import KNeighborsClassifier\n",
        "from sklearn.metrics import accuracy_score"
      ]
    },
    {
      "cell_type": "code",
      "source": [
        "# Cargar el dataset de iris\n",
        "iris = load_iris()\n",
        "X = iris.data  # Características\n",
        "y = iris.target  # Etiquetas\n",
        "\n",
        "# Dividir el conjunto de datos en entrenamiento y prueba\n",
        "X_train, X_test, y_train, y_test = train_test_split(X, y, test_size=0.3, random_state=42)\n",
        "\n",
        "# Escalar los datos (normalización)\n",
        "scaler = StandardScaler()\n",
        "X_train = scaler.fit_transform(X_train)\n",
        "X_test = scaler.transform(X_test)\n",
        "\n",
        "# Crear y entrenar un modelo K-Nearest Neighbors\n",
        "model = KNeighborsClassifier(n_neighbors=3)\n",
        "model.fit(X_train, y_train)\n",
        "\n",
        "# Hacer predicciones\n",
        "y_pred = model.predict(X_test)\n",
        "\n",
        "# Calcular la precisión del modelo\n",
        "accuracy = accuracy_score(y_test, y_pred)\n",
        "print(f'Precisión del modelo: {accuracy * 100:.2f}%')"
      ],
      "metadata": {
        "colab": {
          "base_uri": "https://localhost:8080/"
        },
        "id": "fd4W5U4WEMv4",
        "outputId": "2a278eb9-f033-457a-84d4-7f0875dda8f1"
      },
      "execution_count": 2,
      "outputs": [
        {
          "output_type": "stream",
          "name": "stdout",
          "text": [
            "Precisión del modelo: 100.00%\n"
          ]
        }
      ]
    },
    {
      "cell_type": "code",
      "source": [
        "import pandas as pd\n",
        "import numpy as np\n",
        "from sklearn.preprocessing import LabelEncoder, OrdinalEncoder, OneHotEncoder\n",
        "\n",
        "# Crear un DataFrame simple\n",
        "data = {\n",
        "    'Marca': ['Toyota', 'Honda', 'Toyota', 'BMW', 'Honda', 'BMW'],\n",
        "    'Modelo': ['Corolla', 'Civic', 'Camry', 'X5', 'Accord', 'X3'],\n",
        "    'Color': ['Rojo', 'Azul', 'Negro', 'Blanco', 'Azul', 'Negro'],\n",
        "    'Precio': [22000, 24000, 23000, 50000, 27000, 45000]\n",
        "}\n",
        "\n",
        "df = pd.DataFrame(data)\n",
        "print(\"DataFrame Original:\\n\", df)"
      ],
      "metadata": {
        "colab": {
          "base_uri": "https://localhost:8080/"
        },
        "id": "R5N0oAE0EZ2W",
        "outputId": "325a83b9-e589-4467-f5bf-1213c269b1e2"
      },
      "execution_count": 3,
      "outputs": [
        {
          "output_type": "stream",
          "name": "stdout",
          "text": [
            "DataFrame Original:\n",
            "     Marca   Modelo   Color  Precio\n",
            "0  Toyota  Corolla    Rojo   22000\n",
            "1   Honda    Civic    Azul   24000\n",
            "2  Toyota    Camry   Negro   23000\n",
            "3     BMW       X5  Blanco   50000\n",
            "4   Honda   Accord    Azul   27000\n",
            "5     BMW       X3   Negro   45000\n"
          ]
        }
      ]
    },
    {
      "cell_type": "code",
      "source": [
        "# Aplicar Label Encoding a la columna 'Marca'\n",
        "label_encoder = LabelEncoder()\n",
        "df['Marca_Label'] = label_encoder.fit_transform(df['Marca'])\n",
        "\n",
        "print(\"\\nDataFrame con Label Encoding:\\n\", df)"
      ],
      "metadata": {
        "colab": {
          "base_uri": "https://localhost:8080/"
        },
        "id": "zLZZdv80Edd_",
        "outputId": "0c4f843a-12f5-4a83-9b18-c432333ec375"
      },
      "execution_count": 4,
      "outputs": [
        {
          "output_type": "stream",
          "name": "stdout",
          "text": [
            "\n",
            "DataFrame con Label Encoding:\n",
            "     Marca   Modelo   Color  Precio  Marca_Label\n",
            "0  Toyota  Corolla    Rojo   22000            2\n",
            "1   Honda    Civic    Azul   24000            1\n",
            "2  Toyota    Camry   Negro   23000            2\n",
            "3     BMW       X5  Blanco   50000            0\n",
            "4   Honda   Accord    Azul   27000            1\n",
            "5     BMW       X3   Negro   45000            0\n"
          ]
        }
      ]
    },
    {
      "cell_type": "code",
      "source": [
        "# Aplicar Ordinal Encoding a la columna 'Modelo'\n",
        "ordinal_encoder = OrdinalEncoder()\n",
        "df['Modelo_Ordinal'] = ordinal_encoder.fit_transform(df[['Modelo']])\n",
        "\n",
        "print(\"\\nDataFrame con Ordinal Encoding:\\n\", df)"
      ],
      "metadata": {
        "colab": {
          "base_uri": "https://localhost:8080/"
        },
        "id": "y2QdZRoZEibY",
        "outputId": "7e0814ea-c59e-4251-b134-7016a3479240"
      },
      "execution_count": 5,
      "outputs": [
        {
          "output_type": "stream",
          "name": "stdout",
          "text": [
            "\n",
            "DataFrame con Ordinal Encoding:\n",
            "     Marca   Modelo   Color  Precio  Marca_Label  Modelo_Ordinal\n",
            "0  Toyota  Corolla    Rojo   22000            2             3.0\n",
            "1   Honda    Civic    Azul   24000            1             2.0\n",
            "2  Toyota    Camry   Negro   23000            2             1.0\n",
            "3     BMW       X5  Blanco   50000            0             5.0\n",
            "4   Honda   Accord    Azul   27000            1             0.0\n",
            "5     BMW       X3   Negro   45000            0             4.0\n"
          ]
        }
      ]
    },
    {
      "cell_type": "code",
      "source": [
        "# Aplicar One-Hot Encoding a la columna 'Color'\n",
        "one_hot_encoder = OneHotEncoder(sparse=False)\n",
        "color_encoded = one_hot_encoder.fit_transform(df[['Color']])\n",
        "\n",
        "# Convertir el resultado en un DataFrame y unirlo al DataFrame original\n",
        "color_encoded_df = pd.DataFrame(color_encoded, columns=one_hot_encoder.get_feature_names_out(['Color']))\n",
        "df = pd.concat([df, color_encoded_df], axis=1)\n",
        "\n",
        "print(\"\\nDataFrame con One-Hot Encoding:\\n\", df)"
      ],
      "metadata": {
        "colab": {
          "base_uri": "https://localhost:8080/"
        },
        "id": "LHje4e8_EmdH",
        "outputId": "b2a5833e-bdd2-4d8c-b331-23c311e584ad"
      },
      "execution_count": 6,
      "outputs": [
        {
          "output_type": "stream",
          "name": "stdout",
          "text": [
            "\n",
            "DataFrame con One-Hot Encoding:\n",
            "     Marca   Modelo   Color  Precio  Marca_Label  Modelo_Ordinal  Color_Azul  \\\n",
            "0  Toyota  Corolla    Rojo   22000            2             3.0         0.0   \n",
            "1   Honda    Civic    Azul   24000            1             2.0         1.0   \n",
            "2  Toyota    Camry   Negro   23000            2             1.0         0.0   \n",
            "3     BMW       X5  Blanco   50000            0             5.0         0.0   \n",
            "4   Honda   Accord    Azul   27000            1             0.0         1.0   \n",
            "5     BMW       X3   Negro   45000            0             4.0         0.0   \n",
            "\n",
            "   Color_Blanco  Color_Negro  Color_Rojo  \n",
            "0           0.0          0.0         1.0  \n",
            "1           0.0          0.0         0.0  \n",
            "2           0.0          1.0         0.0  \n",
            "3           1.0          0.0         0.0  \n",
            "4           0.0          0.0         0.0  \n",
            "5           0.0          1.0         0.0  \n"
          ]
        },
        {
          "output_type": "stream",
          "name": "stderr",
          "text": [
            "/usr/local/lib/python3.10/dist-packages/sklearn/preprocessing/_encoders.py:975: FutureWarning: `sparse` was renamed to `sparse_output` in version 1.2 and will be removed in 1.4. `sparse_output` is ignored unless you leave `sparse` to its default value.\n",
            "  warnings.warn(\n"
          ]
        }
      ]
    }
  ]
}